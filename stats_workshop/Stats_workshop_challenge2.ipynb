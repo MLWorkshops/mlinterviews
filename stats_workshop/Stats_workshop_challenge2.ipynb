{
  "nbformat": 4,
  "nbformat_minor": 0,
  "metadata": {
    "colab": {
      "name": "Stats workshop_challenge2.ipynb",
      "provenance": [],
      "collapsed_sections": []
    },
    "kernelspec": {
      "name": "python3",
      "display_name": "Python 3"
    },
    "language_info": {
      "name": "python"
    }
  },
  "cells": [
    {
      "cell_type": "code",
      "metadata": {
        "id": "hU6bj9beUivw"
      },
      "source": [
        "import matplotlib.pyplot as plt\n",
        "import numpy as np\n",
        "from math import sqrt\n",
        "\n",
        "# coding challenge\n",
        "# write a function that computes a z-score for a given number assuming \n",
        "# that the values follow a normal distribution\n",
        "# z-score is is the number of standard deviations by which the value of a \n",
        "# raw score (i.e., an observed value or data point) \n",
        "# is above or below the mean value of what is being observed or measured. [https://en.wikipedia.org/wiki/Standard_score]\n",
        "\n",
        "def compute_zscore(values, number):\n",
        "  mean = <ADD EXPRESSION HERE>\n",
        "  variance = compute_variance(values)\n",
        "  standard_deviation = <ADD EXPRESSION HERE>\n",
        "  z_score = <ADD EXPRESSION HERE>\n",
        "  return z_score"
      ],
      "execution_count": null,
      "outputs": []
    },
    {
      "cell_type": "code",
      "metadata": {
        "id": "ci9p6_1TbOci"
      },
      "source": [
        "# SOLUTION (TBD: remove it)\n",
        "\n",
        "def compute_zscore(values, number):\n",
        "  mean = sum(values) / len(values)\n",
        "  variance = compute_variance(values)\n",
        "  standard_deviation = sqrt(variance)\n",
        "  z_score = (number - mean) / standard_deviation\n",
        "  return z_score"
      ],
      "execution_count": null,
      "outputs": []
    },
    {
      "cell_type": "code",
      "metadata": {
        "id": "IcNhAGibdr5l"
      },
      "source": [
        ""
      ],
      "execution_count": null,
      "outputs": []
    }
  ]
}