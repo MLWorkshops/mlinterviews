{
 "cells": [
  {
   "cell_type": "code",
   "execution_count": null,
   "metadata": {
    "id": "hU6bj9beUivw"
   },
   "outputs": [],
   "source": [
    "import matplotlib.pyplot as plt\n",
    "import numpy as np\n",
    "from math import sqrt\n",
    "\n",
    "# coding challenge\n",
    "# write a function that computes a z-score for a given number assuming \n",
    "# that the values follow a normal distribution\n",
    "# z-score is is the number of standard deviations by which the value of a \n",
    "# raw score (i.e., an observed value or data point) \n",
    "# is above or below the mean value of what is being observed or measured. [https://en.wikipedia.org/wiki/Standard_score]\n",
    "\n",
    "def compute_zscore(values, number):\n",
    "    mean = <ADD EXPRESSION HERE>\n",
    "    variance = compute_variance(values)\n",
    "    standard_deviation = <ADD EXPRESSION HERE>\n",
    "    z_score = <ADD EXPRESSION HERE>\n",
    "    return z_score"
   ]
  },
  {
   "cell_type": "code",
   "execution_count": 1,
   "metadata": {
    "id": "ci9p6_1TbOci"
   },
   "outputs": [],
   "source": [
    "# SOLUTION (TBD: remove it)\n",
    "\n",
    "def compute_zscore(values, number):\n",
    "    mean = sum(values) / len(values)\n",
    "    variance = compute_variance(values)\n",
    "    standard_deviation = sqrt(variance)\n",
    "    z_score = (number - mean) / standard_deviation\n",
    "    return z_score"
   ]
  },
  {
   "cell_type": "code",
   "execution_count": null,
   "metadata": {
    "id": "IcNhAGibdr5l"
   },
   "outputs": [],
   "source": []
  }
 ],
 "metadata": {
  "colab": {
   "collapsed_sections": [],
   "name": "Stats workshop_challenge2.ipynb",
   "provenance": []
  },
  "kernelspec": {
   "display_name": "Python 3",
   "language": "python",
   "name": "python3"
  },
  "language_info": {
   "codemirror_mode": {
    "name": "ipython",
    "version": 3
   },
   "file_extension": ".py",
   "mimetype": "text/x-python",
   "name": "python",
   "nbconvert_exporter": "python",
   "pygments_lexer": "ipython3",
   "version": "3.8.1"
  }
 },
 "nbformat": 4,
 "nbformat_minor": 4
}
