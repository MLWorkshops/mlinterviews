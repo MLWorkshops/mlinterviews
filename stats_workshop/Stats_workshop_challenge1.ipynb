{
  "nbformat": 4,
  "nbformat_minor": 0,
  "metadata": {
    "colab": {
      "name": "Stats workshop_challenge1.ipynb",
      "provenance": [],
      "collapsed_sections": []
    },
    "kernelspec": {
      "name": "python3",
      "display_name": "Python 3"
    },
    "language_info": {
      "name": "python"
    }
  },
  "cells": [
    {
      "cell_type": "code",
      "metadata": {
        "id": "hU6bj9beUivw"
      },
      "source": [
        "import matplotlib.pyplot as plt\n",
        "import numpy as np\n",
        "\n",
        "# coding challenge\n",
        "# write a function that computes a variance of a given list of values\n",
        "\n",
        "def compute_variance(values):\n",
        "  mean = sum(values) / len(values)\n",
        "  sum_of_squared_deviations_from_mean = 0\n",
        "  # The variance of a random variable X is the expected value of the squared deviation from the mean [https://en.wikipedia.org/wiki/Variance]\n",
        "  for value in <ADD_VARIABLE_HERE>:\n",
        "    sum_of_squared_deviations_from_mean += (<ADD EXPRESSION HERE>) ** 2\n",
        "  variance = <ADD EXPRESSION HERE>\n",
        "  return variance"
      ],
      "execution_count": null,
      "outputs": []
    },
    {
      "cell_type": "code",
      "metadata": {
        "id": "LWzb54KJW5sc"
      },
      "source": [
        "# SOLUTION (TBD: remove it)\n",
        "\n",
        "import matplotlib.pyplot as plt\n",
        "import numpy as np\n",
        "\n",
        "# coding challenge\n",
        "# write a function that computes a variance of a given \n",
        "\n",
        "def compute_variance(values):\n",
        "  mean = sum(values) / len(values)\n",
        "  sum_of_squared_deviations_from_mean = 0\n",
        "  # The variance of a random variable X is the expected value of the squared deviation from the mean [https://en.wikipedia.org/wiki/Variance]\n",
        "  for value in values:\n",
        "    sum_of_squared_deviations_from_mean += (value - mean) ** 2\n",
        "  variance = sum_of_squared_deviations_from_mean / len(values)\n",
        "  return variance"
      ],
      "execution_count": null,
      "outputs": []
    }
  ]
}