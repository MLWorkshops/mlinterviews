{
 "cells": [
  {
   "cell_type": "code",
   "execution_count": null,
   "metadata": {
    "id": "hU6bj9beUivw"
   },
   "outputs": [],
   "source": [
    "import matplotlib.pyplot as plt\n",
    "import numpy as np\n",
    "\n",
    "# coding challenge\n",
    "# write a function that computes a variance of a given list of values\n",
    "\n",
    "def compute_variance(values):\n",
    "    mean = sum(values) / len(values)\n",
    "    sum_of_squared_deviations_from_mean = 0\n",
    "    # The variance of a random variable X is the expected value of the squared deviation from the mean [https://en.wikipedia.org/wiki/Variance]\n",
    "    for value in <ADD_VARIABLE_HERE>:\n",
    "      sum_of_squared_deviations_from_mean += (<ADD EXPRESSION HERE>) ** 2\n",
    "    variance = <ADD EXPRESSION HERE>\n",
    "    return variance"
   ]
  },
  {
   "cell_type": "code",
   "execution_count": 2,
   "metadata": {
    "id": "LWzb54KJW5sc"
   },
   "outputs": [],
   "source": [
    "# SOLUTION (TBD: remove it)\n",
    "\n",
    "import matplotlib.pyplot as plt\n",
    "import numpy as np\n",
    "\n",
    "# coding challenge\n",
    "# write a function that computes a variance of a given \n",
    "\n",
    "def compute_variance(values):\n",
    "    mean = sum(values) / len(values)\n",
    "    sum_of_squared_deviations_from_mean = 0\n",
    "    # The variance of a random variable X is the expected value of the squared deviation from the mean [https://en.wikipedia.org/wiki/Variance]\n",
    "    for value in values:\n",
    "      sum_of_squared_deviations_from_mean += (value - mean) ** 2\n",
    "    variance = sum_of_squared_deviations_from_mean / len(values)\n",
    "    return variance"
   ]
  },
  {
   "cell_type": "code",
   "execution_count": null,
   "metadata": {},
   "outputs": [],
   "source": []
  }
 ],
 "metadata": {
  "colab": {
   "collapsed_sections": [],
   "name": "Stats workshop_challenge1.ipynb",
   "provenance": []
  },
  "kernelspec": {
   "display_name": "Python 3",
   "language": "python",
   "name": "python3"
  },
  "language_info": {
   "codemirror_mode": {
    "name": "ipython",
    "version": 3
   },
   "file_extension": ".py",
   "mimetype": "text/x-python",
   "name": "python",
   "nbconvert_exporter": "python",
   "pygments_lexer": "ipython3",
   "version": "3.8.1"
  }
 },
 "nbformat": 4,
 "nbformat_minor": 4
}
