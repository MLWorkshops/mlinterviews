{
  "nbformat": 4,
  "nbformat_minor": 0,
  "metadata": {
    "colab": {
      "name": "Stats workshop.ipynb",
      "provenance": []
    },
    "kernelspec": {
      "name": "python3",
      "display_name": "Python 3"
    }
  },
  "cells": [
    {
      "cell_type": "code",
      "metadata": {
        "colab": {
          "base_uri": "https://localhost:8080/",
          "height": 315
        },
        "id": "sGyAx_tdiq21",
        "outputId": "4f4e5210-3586-4502-b3e3-b46eef1438b0"
      },
      "source": [
        "import matplotlib.pyplot as plt\n",
        "import numpy as np\n",
        "from numpy.random import randint\n",
        "\n",
        "np.random.seed(123456)\n",
        "\n",
        "number_of_bins = 50\n",
        "number_of_points = 100000\n",
        "#\n",
        "#\n",
        "values = np.random.rand(number_of_points)\n",
        "\n",
        "# Create data\n",
        "x = range(len(values))\n",
        "y = values\n",
        "\n",
        "# Plot\n",
        "plt.scatter(x, y)\n",
        "plt.title('Points')\n",
        "plt.xlabel('x')\n",
        "plt.ylabel('y')\n",
        "plt.show()\n"
      ],
      "execution_count": null,
      "outputs": [
        {
          "output_type": "display_data",
          "data": {
            "image/png": "[encoded data removed]",
            "text/plain": [
              "<Figure size 432x288 with 1 Axes>"
            ]
          },
          "metadata": {
            "tags": [],
            "needs_background": "light"
          }
        }
      ]
    },
    {
      "cell_type": "code",
      "metadata": {
        "colab": {
          "base_uri": "https://localhost:8080/"
        },
        "id": "7TYY17m02_xX",
        "outputId": "23c9ade5-8976-470b-8979-ed96a29b9d0a"
      },
      "source": [
        "print(\"Population variance={}\".format(np.var(values)))"
      ],
      "execution_count": null,
      "outputs": [
        {
          "output_type": "stream",
          "text": [
            "Population variance=0.08389801106636982\n"
          ],
          "name": "stdout"
        }
      ]
    },
    {
      "cell_type": "code",
      "metadata": {
        "colab": {
          "base_uri": "https://localhost:8080/",
          "height": 285
        },
        "id": "RZ5gzRgCiwSq",
        "outputId": "d8a1e57f-b352-4227-a93a-dc6312d1fa0a"
      },
      "source": [
        "# uniform distribution\n",
        "plt.hist(values, bins=number_of_bins)\n",
        "plt.show()"
      ],
      "execution_count": null,
      "outputs": [
        {
          "output_type": "display_data",
          "data": {
            "image/png": "[encoded data removed]",
            "text/plain": [
              "<Figure size 432x288 with 1 Axes>"
            ]
          },
          "metadata": {
            "tags": [],
            "needs_background": "light"
          }
        }
      ]
    },
    {
      "cell_type": "code",
      "metadata": {
        "id": "tSOde5VZgR5Y"
      },
      "source": [
        "def build_sample_distribution(number_of_samples, sample_size, population_data):\n",
        "  # central limit theorem\n",
        "  sample_means = []\n",
        "  for i in range(number_of_samples):\n",
        "      sample_sum = 0\n",
        "      for j in range(sample_size):\n",
        "          # update the s variable with a random \n",
        "          sample_sum += population_data[randint(len(population_data))]\n",
        "      sample_mean = float(sample_sum / sample_size)\n",
        "      sample_means.append(sample_mean)\n",
        "\n",
        "  plt.hist(sample_means, bins=50, range=(0, 1))\n",
        "  plt.show()"
      ],
      "execution_count": null,
      "outputs": []
    },
    {
      "cell_type": "code",
      "metadata": {
        "colab": {
          "base_uri": "https://localhost:8080/",
          "height": 289
        },
        "id": "4gTU8QLFrg83",
        "outputId": "d59ac388-99ca-4633-94be-ed62390d496b"
      },
      "source": [
        "build_sample_distribution(number_of_samples=10000, sample_size=1, population_data=values)"
      ],
      "execution_count": null,
      "outputs": [
        {
          "output_type": "display_data",
          "data": {
            "image/png": "[encoded data removed]",
            "text/plain": [
              "<Figure size 432x288 with 1 Axes>"
            ]
          },
          "metadata": {
            "tags": [],
            "needs_background": "light"
          }
        }
      ]
    },
    {
      "cell_type": "code",
      "metadata": {
        "colab": {
          "base_uri": "https://localhost:8080/",
          "height": 285
        },
        "id": "Ebvz76xqrdqA",
        "outputId": "044052d0-454f-466e-f325-24391501ec27"
      },
      "source": [
        "build_sample_distribution(number_of_samples=10000, sample_size=2, population_data=values)"
      ],
      "execution_count": null,
      "outputs": [
        {
          "output_type": "display_data",
          "data": {
            "image/png": "[encoded data removed]",
            "text/plain": [
              "<Figure size 432x288 with 1 Axes>"
            ]
          },
          "metadata": {
            "tags": [],
            "needs_background": "light"
          }
        }
      ]
    },
    {
      "cell_type": "code",
      "metadata": {
        "colab": {
          "base_uri": "https://localhost:8080/",
          "height": 285
        },
        "id": "TZEUC7mYra6h",
        "outputId": "c239ebf6-92c3-4f1a-c100-8bb6ab095e6f"
      },
      "source": [
        "build_sample_distribution(number_of_samples=10000, sample_size=3, population_data=values)"
      ],
      "execution_count": null,
      "outputs": [
        {
          "output_type": "display_data",
          "data": {
            "image/png": "[encoded data removed]",
            "text/plain": [
              "<Figure size 432x288 with 1 Axes>"
            ]
          },
          "metadata": {
            "tags": [],
            "needs_background": "light"
          }
        }
      ]
    },
    {
      "cell_type": "code",
      "metadata": {
        "id": "ppQh04Api36b",
        "colab": {
          "base_uri": "https://localhost:8080/",
          "height": 285
        },
        "outputId": "4e3cd18a-cbe9-47b3-ca1e-ef7d64581ae7"
      },
      "source": [
        "build_sample_distribution(number_of_samples=10000, sample_size=10, population_data=values)"
      ],
      "execution_count": null,
      "outputs": [
        {
          "output_type": "display_data",
          "data": {
            "image/png": "[encoded data removed]",
            "text/plain": [
              "<Figure size 432x288 with 1 Axes>"
            ]
          },
          "metadata": {
            "tags": [],
            "needs_background": "light"
          }
        }
      ]
    },
    {
      "cell_type": "code",
      "metadata": {
        "colab": {
          "base_uri": "https://localhost:8080/",
          "height": 285
        },
        "id": "lCgQOOEUi10i",
        "outputId": "19ff3b0b-faf8-4b0b-b081-abdce6549d34"
      },
      "source": [
        "build_sample_distribution(number_of_samples=10000, sample_size=30, population_data=values)"
      ],
      "execution_count": null,
      "outputs": [
        {
          "output_type": "display_data",
          "data": {
            "image/png": "[encoded data removed]",
            "text/plain": [
              "<Figure size 432x288 with 1 Axes>"
            ]
          },
          "metadata": {
            "tags": [],
            "needs_background": "light"
          }
        }
      ]
    },
    {
      "cell_type": "code",
      "metadata": {
        "colab": {
          "base_uri": "https://localhost:8080/",
          "height": 285
        },
        "id": "QksE1lMoriP_",
        "outputId": "eed08f80-e6f1-48db-9a36-77447886ef98"
      },
      "source": [
        "build_sample_distribution(number_of_samples=100, sample_size=3000, population_data=values)"
      ],
      "execution_count": null,
      "outputs": [
        {
          "output_type": "display_data",
          "data": {
            "image/png": "[encoded data removed]",
            "text/plain": [
              "<Figure size 432x288 with 1 Axes>"
            ]
          },
          "metadata": {
            "tags": [],
            "needs_background": "light"
          }
        }
      ]
    },
    {
      "cell_type": "code",
      "metadata": {
        "colab": {
          "base_uri": "https://localhost:8080/",
          "height": 285
        },
        "id": "aGHR1DUCi2cY",
        "outputId": "b09e64e1-36c7-40b7-9db3-a3b37408b163"
      },
      "source": [
        "build_sample_distribution(number_of_samples=3, sample_size=3000, population_data=values)"
      ],
      "execution_count": null,
      "outputs": [
        {
          "output_type": "display_data",
          "data": {
            "image/png": "[encoded data removed]",
            "text/plain": [
              "<Figure size 432x288 with 1 Axes>"
            ]
          },
          "metadata": {
            "tags": [],
            "needs_background": "light"
          }
        }
      ]
    },
    {
      "cell_type": "code",
      "metadata": {
        "id": "J1H7cdgxqqWt"
      },
      "source": [
        ""
      ],
      "execution_count": null,
      "outputs": []
    }
  ]
}