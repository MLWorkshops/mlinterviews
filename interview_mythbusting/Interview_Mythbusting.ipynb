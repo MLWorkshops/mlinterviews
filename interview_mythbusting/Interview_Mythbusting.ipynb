{
 "cells": [
  {
   "cell_type": "markdown",
   "metadata": {},
   "source": [
    "Note this is MY experience at Silicon Valley tech companies. Experience can differ depending on industry.\n",
    "\n",
    "Myths to bust:\n",
    "* The interviewers are there to give you a :thumbs-up: or :thumbs-down:\n",
    "    * Yes, but also, they're people. They're going to be your team if you join and there's a lot of \"team chemistry\" evaluation going on whether we're aware of it or not. \n",
    "    * You should also be evaluating the team - what can you learn from this team? Do you enjoy talking to them? Also keep in mind though they do a LOT of interviews, so their enthusiasm will likely be playing off of the energy you're bringing to the interview.  \n",
    "    * When they ask you for questions at the end of the interview, get curious. They want to work with someone who is geniunely interested in being a part of the team.\n",
    "* Technical skills are the most important part of the interview\n",
    "    * Technical skills can get you in the door, but business acumen, communication, and vision gets you level \n",
    "* You need to demonstrate your grasp of deep learning\n",
    "    * Fit your application to the job; most companies don't need deep learning; it's a nice to have but what they cannot compromise on is someone who knows how to build the RIGHT solution and deliver value\n",
    "    * Actually where candidates stand out is how attentive they are to the not-sexy parts of data science (feature engineering, result validation, model deployment, code structure)\n",
    "* You need to throw a few buzz words into your work to impress interviewers\n",
    "    * Go through model evaluation example (shap?)\n",
    "    * People hear buzz words and think \"ooh! impressive\" but what's ACTUALLY impressive is when engineers find elegant solutions to problems and focus on delivering value. Less complicated is actually better.\n",
    "* You need to compile a portfolio\n",
    "    * You CAN. But there's a portfolio for the sake of interviews and a portfolio because you've learned to embrace and feed your natural curiousity. The two look very different and it's hard to fake. You need the paycheck, but also try to find a way to do the portfolio for you. What problems could you solve that actually get you excited?\n",
    "* You won't get the job if you don't get the answer right\n",
    "* If you don't get an offer, you \"failed\"\n",
    "    * Culture comes into play, people need a certain skillset you may not have\n",
    "    * Nobody's good at everything, but everybody is good at something"
   ]
  },
  {
   "cell_type": "code",
   "execution_count": null,
   "metadata": {},
   "outputs": [],
   "source": []
  }
 ],
 "metadata": {
  "kernelspec": {
   "display_name": "Python 3",
   "language": "python",
   "name": "python3"
  },
  "language_info": {
   "codemirror_mode": {
    "name": "ipython",
    "version": 2
   },
   "file_extension": ".py",
   "mimetype": "text/x-python",
   "name": "python",
   "nbconvert_exporter": "python",
   "pygments_lexer": "ipython2",
   "version": "2.7.16"
  }
 },
 "nbformat": 4,
 "nbformat_minor": 2
}
