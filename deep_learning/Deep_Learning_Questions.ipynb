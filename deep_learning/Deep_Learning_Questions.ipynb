{
 "cells": [
  {
   "cell_type": "markdown",
   "id": "sharing-skirt",
   "metadata": {},
   "source": [
    "# Deep Learning Questions\n",
    "\n",
    "## General Neural Network Questions:\n",
    "\n",
    "### What is a perceptron?\n",
    "\n",
    "### What is an activation function? Give some examples.\n",
    "\n",
    "### What is back propogation?\n",
    "\n",
    "## Convolutional Neural Networks:\n",
    "\n",
    "### What types of problems are best addressed using a convolutional neural network?\n",
    "\n",
    "### What is a convolutional layer?\n",
    "\n",
    "### Explain what a filter is and how it is used in a convolutional layer?\n",
    "\n",
    "### Describe how a pooling layer is used in a CNN.\n",
    "\n",
    "## Recurrent Neural Networks:\n",
    "\n",
    "### What types of problems are best addressed using a recurrent neural network?\n",
    "\n",
    "### Why is this type of neural network called recurrent? What is being repeated?\n",
    "\n",
    "### What is the problem of vanishing/exploding gradients and why is it especially relevant for RNNs?\n",
    "\n",
    "### What is a long short term memory (LSTM) network? What problems with classical RNNS are solved by LSMTs?"
   ]
  },
  {
   "cell_type": "code",
   "execution_count": null,
   "id": "fancy-monitoring",
   "metadata": {},
   "outputs": [],
   "source": []
  }
 ],
 "metadata": {
  "kernelspec": {
   "display_name": "Python 3",
   "language": "python",
   "name": "python3"
  },
  "language_info": {
   "codemirror_mode": {
    "name": "ipython",
    "version": 3
   },
   "file_extension": ".py",
   "mimetype": "text/x-python",
   "name": "python",
   "nbconvert_exporter": "python",
   "pygments_lexer": "ipython3",
   "version": "3.7.9"
  }
 },
 "nbformat": 4,
 "nbformat_minor": 5
}
