{
 "cells": [
  {
   "cell_type": "markdown",
   "id": "renewable-celtic",
   "metadata": {},
   "source": [
    "# Neural Networks in Numpy\n",
    "\n",
    "## Workshop Summary:\n",
    "In this workshop, I will give a simple and brief introduction to neural networks. The code will be developed from scratch using Numpy. The student will learn about perceptrons, activation functions, feed forward networks, and cost functions.\n",
    "\n",
    "## Outline:\n",
    "1. Create your first perceptron.\n",
    "2. Define initial layer architecture.\n",
    "3. Activation Functions\n",
    "    * Creating non-linearity.\n",
    "4. Create a forward pass in the neural network.\n",
    "5. Cost Function\n",
    "    * Assessing model fit.\n",
    "6. Backward Propagation\n",
    "    * Updating Model Weights.\n",
    "7Complete Model\n",
    "Combine all parts together to create a complete neural network.\n"
   ]
  }
 ],
 "metadata": {
  "kernelspec": {
   "display_name": "Python 3",
   "language": "python",
   "name": "python3"
  },
  "language_info": {
   "codemirror_mode": {
    "name": "ipython",
    "version": 3
   },
   "file_extension": ".py",
   "mimetype": "text/x-python",
   "name": "python",
   "nbconvert_exporter": "python",
   "pygments_lexer": "ipython3",
   "version": "3.7.9"
  }
 },
 "nbformat": 4,
 "nbformat_minor": 5
}
