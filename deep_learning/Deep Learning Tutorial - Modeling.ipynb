{
 "cells": [
  {
   "cell_type": "markdown",
   "id": "married-community",
   "metadata": {},
   "source": [
    "# Deep Learning Tutorial - Modeling"
   ]
  },
  {
   "cell_type": "code",
   "execution_count": 7,
   "id": "imported-florida",
   "metadata": {},
   "outputs": [],
   "source": [
    "def create_architecure():\n",
    "    return None"
   ]
  },
  {
   "cell_type": "code",
   "execution_count": 8,
   "id": "enormous-debate",
   "metadata": {},
   "outputs": [],
   "source": [
    "def sigmoid_activation():\n",
    "    return None"
   ]
  },
  {
   "cell_type": "code",
   "execution_count": 9,
   "id": "deluxe-massachusetts",
   "metadata": {},
   "outputs": [],
   "source": [
    "def relu_activation():\n",
    "    return None"
   ]
  },
  {
   "cell_type": "code",
   "execution_count": 10,
   "id": "accredited-charleston",
   "metadata": {},
   "outputs": [],
   "source": [
    "def single_forward_pass():\n",
    "    return None"
   ]
  },
  {
   "cell_type": "code",
   "execution_count": 11,
   "id": "chronic-wound",
   "metadata": {},
   "outputs": [],
   "source": [
    "def full_forward_pass():\n",
    "    return None"
   ]
  },
  {
   "cell_type": "code",
   "execution_count": 12,
   "id": "color-operator",
   "metadata": {},
   "outputs": [],
   "source": [
    "def cross_entropy_cost_function():\n",
    "    return None"
   ]
  },
  {
   "cell_type": "code",
   "execution_count": 13,
   "id": "objective-transportation",
   "metadata": {},
   "outputs": [],
   "source": [
    "def single_backward_pass():\n",
    "    return None"
   ]
  },
  {
   "cell_type": "code",
   "execution_count": 14,
   "id": "congressional-indicator",
   "metadata": {},
   "outputs": [],
   "source": [
    "def full_backward_pass():\n",
    "    return None"
   ]
  },
  {
   "cell_type": "code",
   "execution_count": 15,
   "id": "collective-application",
   "metadata": {},
   "outputs": [],
   "source": [
    "def train_nn():\n",
    "    return None"
   ]
  },
  {
   "cell_type": "code",
   "execution_count": null,
   "id": "altered-packet",
   "metadata": {},
   "outputs": [],
   "source": []
  }
 ],
 "metadata": {
  "kernelspec": {
   "display_name": "Python 3",
   "language": "python",
   "name": "python3"
  },
  "language_info": {
   "codemirror_mode": {
    "name": "ipython",
    "version": 3
   },
   "file_extension": ".py",
   "mimetype": "text/x-python",
   "name": "python",
   "nbconvert_exporter": "python",
   "pygments_lexer": "ipython3",
   "version": "3.7.9"
  }
 },
 "nbformat": 4,
 "nbformat_minor": 5
}
