{
 "cells": [
  {
   "cell_type": "markdown",
   "id": "written-nudist",
   "metadata": {},
   "source": [
    "# Deep Learning Tutorial - Modeling"
   ]
  },
  {
   "cell_type": "code",
   "execution_count": 1,
   "id": "challenging-rover",
   "metadata": {},
   "outputs": [],
   "source": [
    "import numpy as np\n",
    "import pprint"
   ]
  },
  {
   "cell_type": "code",
   "execution_count": 18,
   "id": "entertaining-norfolk",
   "metadata": {},
   "outputs": [],
   "source": [
    "INPUT_SIZE = 2\n",
    "LAYER_SIZES = [5, 5, 1]\n",
    "LAYER_SIZES.insert(0, INPUT_SIZE)\n",
    "LAYER_ACTIVATIONS = ['relu', 'relu', 'sigmoid']"
   ]
  },
  {
   "cell_type": "code",
   "execution_count": 36,
   "id": "pressed-tribe",
   "metadata": {},
   "outputs": [],
   "source": [
    "def initialize_network():\n",
    "    architecture = {}\n",
    "    # for i, layer_index in enumerate(range(1, len(LAYER_SIZES))):\n",
    "    for layer in range(1, len(LAYER_SIZES)):\n",
    "        architecture[f'layer_{layer}'] = {\n",
    "            'w': np.random.randn(LAYER_SIZES[layer],\n",
    "                                 LAYER_SIZES[layer-1]) * 1,\n",
    "            'b': np.zeros(layer),\n",
    "            'activation': LAYER_ACTIVATIONS[layer-1]\n",
    "        }\n",
    "    return architecture"
   ]
  },
  {
   "cell_type": "code",
   "execution_count": 37,
   "id": "desperate-meter",
   "metadata": {},
   "outputs": [
    {
     "name": "stdout",
     "output_type": "stream",
     "text": [
      "{'layer_1': {'activation': 'relu',\n",
      "             'b': array([0.]),\n",
      "             'w': array([[ 0.62983372,  0.56878216],\n",
      "       [-1.47626373,  1.39094761],\n",
      "       [ 0.19902173,  0.89195303],\n",
      "       [ 0.96619329,  0.09791707],\n",
      "       [ 0.77621919, -0.36811113]])},\n",
      " 'layer_2': {'activation': 'relu',\n",
      "             'b': array([0., 0.]),\n",
      "             'w': array([[ 1.16681614,  0.66005872,  0.08133706, -0.54319681,  0.12865929],\n",
      "       [ 0.17041723,  0.36279056,  1.15376476,  0.14055135,  0.67895405],\n",
      "       [ 1.39226503, -0.52592959, -0.33414677, -0.4554183 ,  0.93324929],\n",
      "       [ 0.53377716,  1.03143555, -0.08931775, -1.81003333, -0.95848223],\n",
      "       [-0.97779417,  0.09039217, -0.02638143, -0.2612654 , -0.325057  ]])},\n",
      " 'layer_3': {'activation': 'sigmoid',\n",
      "             'b': array([0., 0., 0.]),\n",
      "             'w': array([[ 0.64103561,  0.66231714,  0.68292803, -1.99764949,  0.26431266]])}}\n"
     ]
    }
   ],
   "source": [
    "network = initialize_network()\n",
    "pprint.pprint(network)"
   ]
  },
  {
   "cell_type": "code",
   "execution_count": 5,
   "id": "color-vegetable",
   "metadata": {},
   "outputs": [],
   "source": [
    "def sigmoid_activation(Z):\n",
    "    activation = 1/(1 + np.exp(-1*Z))\n",
    "    return activation"
   ]
  },
  {
   "cell_type": "code",
   "execution_count": 6,
   "id": "informal-playlist",
   "metadata": {},
   "outputs": [],
   "source": [
    "def relu_activation(Z):\n",
    "    activation = np.max(0, Z)\n",
    "    return activation"
   ]
  },
  {
   "cell_type": "code",
   "execution_count": 7,
   "id": "swedish-multiple",
   "metadata": {},
   "outputs": [],
   "source": [
    "def dZ_sigmoid(dA, Z):\n",
    "    sigmoid = sigmoid_activation(Z)\n",
    "    dZ = dA * sigmoid * (1 - sigmoid)\n",
    "    return dZ"
   ]
  },
  {
   "cell_type": "code",
   "execution_count": 8,
   "id": "duplicate-glass",
   "metadata": {},
   "outputs": [],
   "source": [
    "def dZ_relu(dA, Z):\n",
    "    dZ = np.copy(dA)\n",
    "    dZ[Z <= 0] = 0\n",
    "    return dZ"
   ]
  },
  {
   "cell_type": "code",
   "execution_count": 9,
   "id": "italic-aging",
   "metadata": {},
   "outputs": [],
   "source": [
    "act_map = {\n",
    "    'sigmoid': sigmoid_activation,\n",
    "    'relu': relu_activation\n",
    "}"
   ]
  },
  {
   "cell_type": "code",
   "execution_count": 10,
   "id": "gothic-healthcare",
   "metadata": {},
   "outputs": [],
   "source": [
    "dZ_map = {\n",
    "    'sigmoid': dZ_sigmoid,\n",
    "    'relu': dZ_relu\n",
    "}"
   ]
  },
  {
   "cell_type": "code",
   "execution_count": 11,
   "id": "voluntary-literature",
   "metadata": {},
   "outputs": [],
   "source": [
    "def single_forward_pass(A_previous, W, b, activation):\n",
    "    try:\n",
    "        act_function = act_map[activation]\n",
    "    except KeyError:\n",
    "        print(f'The activation {activation} is not recognized.\\nIt must be one of the following: {list(act_map.keys())}')\n",
    "        return None\n",
    "    \n",
    "    Z = np.dot(W, A_previous) + b\n",
    "    A = act_function(Z)\n",
    "    \n",
    "    return A, Z"
   ]
  },
  {
   "cell_type": "code",
   "execution_count": 11,
   "id": "sacred-vector",
   "metadata": {},
   "outputs": [],
   "source": [
    "def full_forward_pass():\n",
    "    return None"
   ]
  },
  {
   "cell_type": "code",
   "execution_count": 12,
   "id": "american-german",
   "metadata": {},
   "outputs": [],
   "source": [
    "def cross_entropy_cost_function():\n",
    "    return None"
   ]
  },
  {
   "cell_type": "code",
   "execution_count": 13,
   "id": "effective-socket",
   "metadata": {},
   "outputs": [],
   "source": [
    "def single_backward_pass():\n",
    "    return None"
   ]
  },
  {
   "cell_type": "code",
   "execution_count": 14,
   "id": "convinced-portal",
   "metadata": {},
   "outputs": [],
   "source": [
    "def full_backward_pass():\n",
    "    return None"
   ]
  },
  {
   "cell_type": "code",
   "execution_count": 15,
   "id": "cleared-wrist",
   "metadata": {},
   "outputs": [],
   "source": [
    "def train_nn():\n",
    "    return None"
   ]
  },
  {
   "cell_type": "markdown",
   "id": "appropriate-graham",
   "metadata": {},
   "source": [
    "### Resources\n",
    "This notebook has been inspired by the Towards Data Science post [Let’s code a Neural Network in plain NumPy](https://towardsdatascience.com/lets-code-a-neural-network-in-plain-numpy-ae7e74410795)."
   ]
  },
  {
   "cell_type": "code",
   "execution_count": null,
   "id": "governmental-collector",
   "metadata": {},
   "outputs": [],
   "source": []
  }
 ],
 "metadata": {
  "kernelspec": {
   "display_name": "Python 3",
   "language": "python",
   "name": "python3"
  },
  "language_info": {
   "codemirror_mode": {
    "name": "ipython",
    "version": 3
   },
   "file_extension": ".py",
   "mimetype": "text/x-python",
   "name": "python",
   "nbconvert_exporter": "python",
   "pygments_lexer": "ipython3",
   "version": "3.7.9"
  }
 },
 "nbformat": 4,
 "nbformat_minor": 5
}
