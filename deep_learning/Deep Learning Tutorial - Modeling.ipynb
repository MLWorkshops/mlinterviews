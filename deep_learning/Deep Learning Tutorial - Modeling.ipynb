{
 "cells": [
  {
   "cell_type": "markdown",
   "id": "secondary-behalf",
   "metadata": {},
   "source": [
    "# Deep Learning Tutorial - Modeling"
   ]
  },
  {
   "cell_type": "code",
   "execution_count": 22,
   "id": "british-statistics",
   "metadata": {},
   "outputs": [],
   "source": [
    "import numpy as np\n",
    "import pprint"
   ]
  },
  {
   "cell_type": "code",
   "execution_count": 8,
   "id": "balanced-unknown",
   "metadata": {},
   "outputs": [],
   "source": [
    "INPUT_SIZE = 2\n",
    "LAYER_SIZES = [5, 5, 1]\n",
    "LAYER_SIZES.insert(0, INPUT_SIZE)"
   ]
  },
  {
   "cell_type": "code",
   "execution_count": 17,
   "id": "valued-dairy",
   "metadata": {},
   "outputs": [],
   "source": [
    "def initialize_network():\n",
    "    architecture = {}\n",
    "    for i, size_index in enumerate(range(1, len(LAYER_SIZES))):\n",
    "        architecture[f'layer_{i+1}'] = {\n",
    "            'w': np.random.randn(LAYER_SIZES[size_index],\n",
    "                                 LAYER_SIZES[size_index-1]) * 0.1,\n",
    "            'b': np.random.randn(LAYER_SIZES[size_index])\n",
    "        }\n",
    "    return architecture"
   ]
  },
  {
   "cell_type": "code",
   "execution_count": 23,
   "id": "diverse-canadian",
   "metadata": {},
   "outputs": [
    {
     "name": "stdout",
     "output_type": "stream",
     "text": [
      "{'layer_1': {'b': array([ 0.64993052, -0.03663922, -0.13108684,  0.98222764,  1.01142579]),\n",
      "             'w': array([[ 0.11936416, -0.02308352],\n",
      "       [-0.00930403, -0.1189347 ],\n",
      "       [ 0.09502224, -0.02074956],\n",
      "       [-0.01811178,  0.02415438],\n",
      "       [-0.00827135,  0.03413851]])},\n",
      " 'layer_2': {'b': array([ 1.77738475, -1.31281377, -0.88824206,  1.15801924,  0.13309017]),\n",
      "             'w': array([[ 1.09089138e-01,  1.56220326e-01, -3.00721179e-02,\n",
      "        -2.23677716e-02, -6.59466993e-02],\n",
      "       [ 1.77892513e-01, -1.51751686e-01,  5.26831930e-02,\n",
      "        -1.07906356e-01,  1.08492940e-01],\n",
      "       [ 1.94783579e-01,  1.13689637e-01, -6.44647573e-02,\n",
      "        -2.85201791e-02, -5.59156732e-02],\n",
      "       [-2.02160799e-01,  2.42834032e-02,  1.53636857e-04,\n",
      "         9.43113294e-02, -1.91067010e-01],\n",
      "       [-3.76922864e-02,  1.08870626e-01,  1.78493554e-02,\n",
      "         2.87615353e-02, -1.71206572e-01]])},\n",
      " 'layer_3': {'b': array([1.57074617]),\n",
      "             'w': array([[-0.10799625,  0.14433693, -0.0692705 , -0.10439643, -0.09618939]])}}\n"
     ]
    }
   ],
   "source": [
    "network = initialize_network()\n",
    "pprint.pprint(network)"
   ]
  },
  {
   "cell_type": "code",
   "execution_count": 8,
   "id": "comfortable-quarter",
   "metadata": {},
   "outputs": [],
   "source": [
    "def sigmoid_activation():\n",
    "    return None"
   ]
  },
  {
   "cell_type": "code",
   "execution_count": 9,
   "id": "structural-helicopter",
   "metadata": {},
   "outputs": [],
   "source": [
    "def relu_activation():\n",
    "    return None"
   ]
  },
  {
   "cell_type": "code",
   "execution_count": 10,
   "id": "productive-congo",
   "metadata": {},
   "outputs": [],
   "source": [
    "def single_forward_pass():\n",
    "    return None"
   ]
  },
  {
   "cell_type": "code",
   "execution_count": 11,
   "id": "minute-contents",
   "metadata": {},
   "outputs": [],
   "source": [
    "def full_forward_pass():\n",
    "    return None"
   ]
  },
  {
   "cell_type": "code",
   "execution_count": 12,
   "id": "skilled-jimmy",
   "metadata": {},
   "outputs": [],
   "source": [
    "def cross_entropy_cost_function():\n",
    "    return None"
   ]
  },
  {
   "cell_type": "code",
   "execution_count": 13,
   "id": "designing-adams",
   "metadata": {},
   "outputs": [],
   "source": [
    "def single_backward_pass():\n",
    "    return None"
   ]
  },
  {
   "cell_type": "code",
   "execution_count": 14,
   "id": "motivated-remove",
   "metadata": {},
   "outputs": [],
   "source": [
    "def full_backward_pass():\n",
    "    return None"
   ]
  },
  {
   "cell_type": "code",
   "execution_count": 15,
   "id": "silent-private",
   "metadata": {},
   "outputs": [],
   "source": [
    "def train_nn():\n",
    "    return None"
   ]
  },
  {
   "cell_type": "code",
   "execution_count": null,
   "id": "compliant-respondent",
   "metadata": {},
   "outputs": [],
   "source": []
  }
 ],
 "metadata": {
  "kernelspec": {
   "display_name": "Python 3",
   "language": "python",
   "name": "python3"
  },
  "language_info": {
   "codemirror_mode": {
    "name": "ipython",
    "version": 3
   },
   "file_extension": ".py",
   "mimetype": "text/x-python",
   "name": "python",
   "nbconvert_exporter": "python",
   "pygments_lexer": "ipython3",
   "version": "3.7.9"
  }
 },
 "nbformat": 4,
 "nbformat_minor": 5
}
