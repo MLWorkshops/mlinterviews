{
 "cells": [
  {
   "cell_type": "markdown",
   "id": "boxed-night",
   "metadata": {},
   "source": [
    "# Deep Learning Tutorial - Modeling"
   ]
  },
  {
   "cell_type": "code",
   "execution_count": 1,
   "id": "needed-thanksgiving",
   "metadata": {},
   "outputs": [],
   "source": [
    "import numpy as np\n",
    "import pprint"
   ]
  },
  {
   "cell_type": "code",
   "execution_count": 2,
   "id": "exotic-method",
   "metadata": {},
   "outputs": [],
   "source": [
    "INPUT_SIZE = 2\n",
    "LAYER_SIZES = [5, 5, 1]\n",
    "LAYER_SIZES.insert(0, INPUT_SIZE)"
   ]
  },
  {
   "cell_type": "code",
   "execution_count": 3,
   "id": "worth-manner",
   "metadata": {},
   "outputs": [],
   "source": [
    "def initialize_network():\n",
    "    architecture = {}\n",
    "    for i, size_index in enumerate(range(1, len(LAYER_SIZES))):\n",
    "        architecture[f'layer_{i+1}'] = {\n",
    "            'w': np.random.randn(LAYER_SIZES[size_index],\n",
    "                                 LAYER_SIZES[size_index-1]) * 0.1,\n",
    "            'b': np.random.randn(LAYER_SIZES[size_index])\n",
    "        }\n",
    "    return architecture"
   ]
  },
  {
   "cell_type": "code",
   "execution_count": 4,
   "id": "apparent-cambodia",
   "metadata": {},
   "outputs": [
    {
     "name": "stdout",
     "output_type": "stream",
     "text": [
      "{'layer_1': {'b': array([ 0.684286  , -0.45235335, -0.72462178,  1.10932135,  1.16686128]),\n",
      "             'w': array([[ 0.15311693,  0.02071988],\n",
      "       [-0.13693191, -0.10549693],\n",
      "       [-0.00387081,  0.20481531],\n",
      "       [-0.097135  , -0.04318543],\n",
      "       [ 0.02156991, -0.01516054]])},\n",
      " 'layer_2': {'b': array([ 1.63754842,  0.21767353,  1.12040649, -0.99304295, -1.81855364]),\n",
      "             'w': array([[ 0.01833445, -0.03805091,  0.04265919,  0.05733997, -0.0165144 ],\n",
      "       [-0.2192589 ,  0.07136384, -0.02729625,  0.08657769, -0.04503367],\n",
      "       [-0.03927704, -0.02913509,  0.10876017, -0.09403395,  0.03146266],\n",
      "       [ 0.04609964,  0.11874883, -0.0605361 , -0.09544864, -0.09379869],\n",
      "       [-0.11340498,  0.12389206,  0.08107716, -0.10272101, -0.00741991]])},\n",
      " 'layer_3': {'b': array([-0.41068865]),\n",
      "             'w': array([[-0.10454984, -0.04219592, -0.09553875, -0.01056738, -0.00060624]])}}\n"
     ]
    }
   ],
   "source": [
    "network = initialize_network()\n",
    "pprint.pprint(network)"
   ]
  },
  {
   "cell_type": "code",
   "execution_count": 5,
   "id": "light-mason",
   "metadata": {},
   "outputs": [],
   "source": [
    "def sigmoid_activation(Z):\n",
    "    activation = 1/(1 + np.exp(-1*Z))\n",
    "    return activation"
   ]
  },
  {
   "cell_type": "code",
   "execution_count": 6,
   "id": "parental-flavor",
   "metadata": {},
   "outputs": [],
   "source": [
    "def relu_activation(Z):\n",
    "    activation = np.max(0, Z)\n",
    "    return activation"
   ]
  },
  {
   "cell_type": "code",
   "execution_count": 7,
   "id": "monthly-newfoundland",
   "metadata": {},
   "outputs": [],
   "source": [
    "def dZ_sigmoid(dA, Z):\n",
    "    sigmoid = sigmoid_activation(Z)\n",
    "    dZ = dA * sigmoid * (1 - sigmoid)\n",
    "    return dZ"
   ]
  },
  {
   "cell_type": "code",
   "execution_count": 8,
   "id": "several-sensitivity",
   "metadata": {},
   "outputs": [],
   "source": [
    "def dZ_relu(dA, Z):\n",
    "    dZ = np.copy(dA)\n",
    "    dZ[Z <= 0] = 0\n",
    "    return dZ"
   ]
  },
  {
   "cell_type": "code",
   "execution_count": 9,
   "id": "concerned-conservation",
   "metadata": {},
   "outputs": [],
   "source": [
    "act_map = {\n",
    "    'sigmoid': sigmoid_activation,\n",
    "    'relu': relu_activation\n",
    "}"
   ]
  },
  {
   "cell_type": "code",
   "execution_count": 10,
   "id": "operating-bandwidth",
   "metadata": {},
   "outputs": [],
   "source": [
    "dZ_map = {\n",
    "    'sigmoid': dZ_sigmoid,\n",
    "    'relu': dZ_relu\n",
    "}"
   ]
  },
  {
   "cell_type": "code",
   "execution_count": 11,
   "id": "offensive-relief",
   "metadata": {},
   "outputs": [],
   "source": [
    "def single_forward_pass(A_previous, W, b, activation):\n",
    "    try:\n",
    "        act_function = act_map[activation]\n",
    "    except KeyError:\n",
    "        print(f'The activation {activation} is not recognized.\\nIt must be one of the following: {list(act_map.keys())}')\n",
    "        return None\n",
    "    \n",
    "    Z = np.dot(W, A_previous) + b\n",
    "    A = act_function(Z)\n",
    "    \n",
    "    return A, Z"
   ]
  },
  {
   "cell_type": "code",
   "execution_count": 11,
   "id": "biological-taste",
   "metadata": {},
   "outputs": [],
   "source": [
    "def full_forward_pass():\n",
    "    return None"
   ]
  },
  {
   "cell_type": "code",
   "execution_count": 12,
   "id": "beautiful-emergency",
   "metadata": {},
   "outputs": [],
   "source": [
    "def cross_entropy_cost_function():\n",
    "    return None"
   ]
  },
  {
   "cell_type": "code",
   "execution_count": 13,
   "id": "annoying-leave",
   "metadata": {},
   "outputs": [],
   "source": [
    "def single_backward_pass():\n",
    "    return None"
   ]
  },
  {
   "cell_type": "code",
   "execution_count": 14,
   "id": "committed-richmond",
   "metadata": {},
   "outputs": [],
   "source": [
    "def full_backward_pass():\n",
    "    return None"
   ]
  },
  {
   "cell_type": "code",
   "execution_count": 15,
   "id": "boxed-independence",
   "metadata": {},
   "outputs": [],
   "source": [
    "def train_nn():\n",
    "    return None"
   ]
  },
  {
   "cell_type": "markdown",
   "id": "numerical-postcard",
   "metadata": {},
   "source": [
    "### Resources\n",
    "This notebook has been inspired by the Towards Data Science post [Let’s code a Neural Network in plain NumPy](https://towardsdatascience.com/lets-code-a-neural-network-in-plain-numpy-ae7e74410795)."
   ]
  },
  {
   "cell_type": "code",
   "execution_count": null,
   "id": "fuzzy-hardware",
   "metadata": {},
   "outputs": [],
   "source": []
  }
 ],
 "metadata": {
  "kernelspec": {
   "display_name": "Python 3",
   "language": "python",
   "name": "python3"
  },
  "language_info": {
   "codemirror_mode": {
    "name": "ipython",
    "version": 3
   },
   "file_extension": ".py",
   "mimetype": "text/x-python",
   "name": "python",
   "nbconvert_exporter": "python",
   "pygments_lexer": "ipython3",
   "version": "3.7.9"
  }
 },
 "nbformat": 4,
 "nbformat_minor": 5
}
