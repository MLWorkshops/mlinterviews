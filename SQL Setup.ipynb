{
 "cells": [
  {
   "cell_type": "code",
   "execution_count": 8,
   "metadata": {},
   "outputs": [],
   "source": [
    "import sqlite3\n",
    "db_name = 'data/ufo_sightings.db'\n",
    "conn = sqlite3.connect(db_name)"
   ]
  },
  {
   "cell_type": "code",
   "execution_count": 9,
   "metadata": {},
   "outputs": [],
   "source": [
    "import pandas as pd\n",
    "with open('data/timothyrenner-ufo-sightings/nuforc_reports.csv') as csvfile:\n",
    "    df = pd.read_csv(csvfile)\n",
    "    table_name = 'ufo_sightings'\n",
    "    df.to_sql(table_name, conn, if_exists='append', index=False)"
   ]
  },
  {
   "cell_type": "code",
   "execution_count": 11,
   "metadata": {},
   "outputs": [],
   "source": [
    "c = conn.cursor()"
   ]
  },
  {
   "cell_type": "code",
   "execution_count": 12,
   "metadata": {},
   "outputs": [
    {
     "data": {
      "text/plain": [
       "('ufo_sightings',)"
      ]
     },
     "execution_count": 12,
     "metadata": {},
     "output_type": "execute_result"
    }
   ],
   "source": [
    "query = \"\"\"\n",
    "SELECT \n",
    "    name\n",
    "FROM \n",
    "    sqlite_master \n",
    "WHERE \n",
    "    type ='table' AND \n",
    "    name NOT LIKE 'sqlite_%';\n",
    "\"\"\"\n",
    "c.execute(query)\n",
    "c.fetchone()"
   ]
  },
  {
   "cell_type": "code",
   "execution_count": 13,
   "metadata": {},
   "outputs": [],
   "source": [
    "import pandas as pd\n",
    "with open('data/nst-est2019-01.csv') as csvfile:\n",
    "    df = pd.read_csv(csvfile)\n",
    "    table_name = 'population_counts'\n",
    "    df.to_sql(table_name, conn, if_exists='append', index=False)"
   ]
  },
  {
   "cell_type": "code",
   "execution_count": 14,
   "metadata": {},
   "outputs": [
    {
     "data": {
      "text/plain": [
       "[('ufo_sightings',), ('population_counts',)]"
      ]
     },
     "execution_count": 14,
     "metadata": {},
     "output_type": "execute_result"
    }
   ],
   "source": [
    "query = \"\"\"\n",
    "SELECT \n",
    "    name\n",
    "FROM \n",
    "    sqlite_master \n",
    "WHERE \n",
    "    type ='table' AND \n",
    "    name NOT LIKE 'sqlite_%';\n",
    "\"\"\"\n",
    "c.execute(query)\n",
    "c.fetchall()"
   ]
  }
 ],
 "metadata": {
  "kernelspec": {
   "display_name": "Python 3",
   "language": "python",
   "name": "python3"
  },
  "language_info": {
   "codemirror_mode": {
    "name": "ipython",
    "version": 3
   },
   "file_extension": ".py",
   "mimetype": "text/x-python",
   "name": "python",
   "nbconvert_exporter": "python",
   "pygments_lexer": "ipython3",
   "version": "3.5.7"
  }
 },
 "nbformat": 4,
 "nbformat_minor": 4
}
