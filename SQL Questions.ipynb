{
 "cells": [
  {
   "cell_type": "code",
   "execution_count": 1,
   "metadata": {},
   "outputs": [],
   "source": [
    "import sqlite3\n",
    "db_name = 'data/ufo_sightings.db'\n",
    "conn = sqlite3.connect(db_name)"
   ]
  },
  {
   "cell_type": "code",
   "execution_count": 2,
   "metadata": {},
   "outputs": [],
   "source": [
    "c = conn.cursor()"
   ]
  },
  {
   "cell_type": "markdown",
   "metadata": {},
   "source": [
    "## Let's see what tables we have"
   ]
  },
  {
   "cell_type": "code",
   "execution_count": 3,
   "metadata": {},
   "outputs": [
    {
     "data": {
      "text/plain": [
       "[('ufo_sightings',), ('population_counts',)]"
      ]
     },
     "execution_count": 3,
     "metadata": {},
     "output_type": "execute_result"
    }
   ],
   "source": [
    "query = \"\"\"\n",
    "SELECT \n",
    "    name\n",
    "FROM \n",
    "    sqlite_master \n",
    "WHERE \n",
    "    type ='table' AND \n",
    "    name NOT LIKE 'sqlite_%';\n",
    "\"\"\"\n",
    "c.execute(query)\n",
    "c.fetchmany(size=10)"
   ]
  },
  {
   "cell_type": "markdown",
   "metadata": {},
   "source": [
    "## Let's check the table schemas"
   ]
  },
  {
   "cell_type": "code",
   "execution_count": 4,
   "metadata": {},
   "outputs": [
    {
     "data": {
      "text/plain": [
       "[('CREATE TABLE \"ufo_sightings\" (\\n\"summary\" TEXT,\\n  \"city\" TEXT,\\n  \"state\" TEXT,\\n  \"date_time\" TEXT,\\n  \"shape\" TEXT,\\n  \"duration\" TEXT,\\n  \"stats\" TEXT,\\n  \"report_link\" TEXT,\\n  \"text\" TEXT,\\n  \"posted\" TEXT,\\n  \"city_latitude\" REAL,\\n  \"city_longitude\" REAL\\n)',),\n",
       " ('CREATE TABLE \"population_counts\" (\\n\"State\" TEXT,\\n  \"Population2010\" TEXT\\n)',)]"
      ]
     },
     "execution_count": 4,
     "metadata": {},
     "output_type": "execute_result"
    }
   ],
   "source": [
    "# ufo_sightings schema\n",
    "query = \"\"\"\n",
    "SELECT sql \n",
    "FROM sqlite_master;\n",
    "\"\"\"\n",
    "c.execute(query)\n",
    "c.fetchmany(size=10)"
   ]
  },
  {
   "cell_type": "code",
   "execution_count": 14,
   "metadata": {},
   "outputs": [
    {
     "data": {
      "text/plain": [
       "[('CREATE TABLE \"population_counts\" (\\n\"State\" TEXT,\\n  \"Population2010\" TEXT\\n)',)]"
      ]
     },
     "execution_count": 14,
     "metadata": {},
     "output_type": "execute_result"
    }
   ],
   "source": [
    "# population_counts schema\n",
    "query = \"\"\"\n",
    "SELECT sql \n",
    "FROM sqlite_master \n",
    "WHERE name = 'population_counts';\n",
    "\"\"\"\n",
    "c.execute(query)\n",
    "c.fetchmany(size=10)"
   ]
  },
  {
   "cell_type": "markdown",
   "metadata": {},
   "source": [
    "## Here's an example of fetching one row from the DB table `ufo_sightings`"
   ]
  },
  {
   "cell_type": "code",
   "execution_count": 15,
   "metadata": {},
   "outputs": [
    {
     "data": {
      "text/plain": [
       "[('My wife was driving southeast on a fairly populated main side road, it was dark out side at about 6:43pm, And my wife exclaimed” fallin',\n",
       "  'Chester',\n",
       "  'VA',\n",
       "  '2019-12-12T18:43:00',\n",
       "  'light',\n",
       "  '5 seconds',\n",
       "  'Occurred : 12/12/2019 18:43  (Entered as : 12/12/19 18:43) Reported: 12/19/2019 7:19:31 PM 19:19 Posted: 12/22/2019 Location: Chester, VA Shape: Light Duration:5 seconds',\n",
       "  'http://www.nuforc.org/webreports/151/S151739.html',\n",
       "  'My wife was driving southeast on a fairly populated main side road, it was dark out side at about 6:43pm, And my wife exclaimed” falling star baby look quick!” When I looked up I saw not a falling star but a bright ball of light , one that was closer than any shooting star I have ever seen, it had a blue glow  changing into green colors of light as it fell from the sky. It fell as if falling from an invisible opening in the sky... the night was a crystal clear night sky  so no clouds or precipitation to obstruct our view and the object was closer than any I have ever witnessed before. The way the object fell was too slow to be a meteor or falling star, also noting that there was no “light trail” following behind the object as it fell. We watched it fall for about 5 seconds before it disappeared into the dark night sky somewhere close to the earth surface.  It was the strangest light; object; ufo... I have encountered and felt a duty to report it.',\n",
       "  '2019-12-22T00:00:00',\n",
       "  37.34315151515153,\n",
       "  -77.408581818182)]"
      ]
     },
     "execution_count": 15,
     "metadata": {},
     "output_type": "execute_result"
    }
   ],
   "source": [
    "query = \"\"\"\n",
    "SELECT \n",
    "    *\n",
    "FROM \n",
    "    ufo_sightings \n",
    "LIMIT \n",
    "    1\n",
    "\"\"\"\n",
    "c.execute(query)\n",
    "c.fetchmany(size=10)"
   ]
  },
  {
   "cell_type": "markdown",
   "metadata": {},
   "source": [
    "## Here's an example of fetching one row from the DB table `population_counts`"
   ]
  },
  {
   "cell_type": "code",
   "execution_count": 16,
   "metadata": {},
   "outputs": [
    {
     "data": {
      "text/plain": [
       "[('Alabama', '4,779,736')]"
      ]
     },
     "execution_count": 16,
     "metadata": {},
     "output_type": "execute_result"
    }
   ],
   "source": [
    "query = \"\"\"\n",
    "SELECT \n",
    "    *\n",
    "FROM \n",
    "    population_counts \n",
    "LIMIT \n",
    "    1\n",
    "\"\"\"\n",
    "c.execute(query)\n",
    "c.fetchmany(size=10)"
   ]
  },
  {
   "cell_type": "markdown",
   "metadata": {},
   "source": [
    "## Question:  How would you normalize this data?"
   ]
  },
  {
   "cell_type": "code",
   "execution_count": null,
   "metadata": {},
   "outputs": [],
   "source": [
    "## Question:  How would you analyze this data?"
   ]
  },
  {
   "cell_type": "markdown",
   "metadata": {},
   "source": [
    "## Question: Get the total number of sightings through all time\n"
   ]
  },
  {
   "cell_type": "markdown",
   "metadata": {},
   "source": [
    "## Question: Get the number of sightings per year\n"
   ]
  },
  {
   "cell_type": "markdown",
   "metadata": {},
   "source": [
    "## Question: Get the number of sightings per state."
   ]
  },
  {
   "cell_type": "code",
   "execution_count": 9,
   "metadata": {},
   "outputs": [
    {
     "data": {
      "text/plain": [
       "[(5235, None),\n",
       " (381, 'AB'),\n",
       " (419, 'AK'),\n",
       " (869, 'AL'),\n",
       " (669, 'AR'),\n",
       " (2893, 'AZ'),\n",
       " (473, 'BC'),\n",
       " (9506, 'CA'),\n",
       " (1888, 'CO'),\n",
       " (1335, 'CT')]"
      ]
     },
     "execution_count": 9,
     "metadata": {},
     "output_type": "execute_result"
    }
   ],
   "source": [
    "query = \"\"\"\n",
    "SELECT \n",
    "    COUNT(1), state\n",
    "FROM \n",
    "    ufo_sightings \n",
    "GROUP BY \n",
    "    state\n",
    "\"\"\"\n",
    "c.execute(query)\n",
    "c.fetchmany(size=10)"
   ]
  },
  {
   "cell_type": "markdown",
   "metadata": {},
   "source": [
    "## Question: What are the different types of joins? What are the differences between them?\n"
   ]
  },
  {
   "cell_type": "markdown",
   "metadata": {},
   "source": [
    "## Question: Get an aggregate count of the number of sightings per state, normalized by the population count per state.\n"
   ]
  },
  {
   "cell_type": "markdown",
   "metadata": {},
   "source": [
    "## What are some steps in data processing for machine learning?"
   ]
  },
  {
   "cell_type": "markdown",
   "metadata": {},
   "source": [
    "ETL, feature engineering (feature generations/data transformations, feature selection)"
   ]
  },
  {
   "cell_type": "markdown",
   "metadata": {},
   "source": [
    "## What is Feature Engineering?"
   ]
  },
  {
   "cell_type": "code",
   "execution_count": null,
   "metadata": {},
   "outputs": [],
   "source": []
  },
  {
   "cell_type": "code",
   "execution_count": null,
   "metadata": {},
   "outputs": [],
   "source": []
  },
  {
   "cell_type": "code",
   "execution_count": null,
   "metadata": {},
   "outputs": [],
   "source": []
  }
 ],
 "metadata": {
  "kernelspec": {
   "display_name": "Python 3",
   "language": "python",
   "name": "python3"
  },
  "language_info": {
   "codemirror_mode": {
    "name": "ipython",
    "version": 3
   },
   "file_extension": ".py",
   "mimetype": "text/x-python",
   "name": "python",
   "nbconvert_exporter": "python",
   "pygments_lexer": "ipython3",
   "version": "3.5.7"
  }
 },
 "nbformat": 4,
 "nbformat_minor": 4
}
