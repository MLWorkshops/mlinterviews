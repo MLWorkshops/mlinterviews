{
 "cells": [
  {
   "cell_type": "markdown",
   "metadata": {},
   "source": [
    "# Machine Learning Foundations\n",
    "\n",
    "## Outline\n",
    "\n",
    "1. Introduction\n",
    "  - When to use ML\n",
    "  - General types of ML and scenarios\n",
    "2. Preprocessing - shaping, converting and reducing complexity\n",
    "3. Feature engineering - what makes a good feature\n",
    "4. Algorithms\n",
    "  - Decision Tree for classification\n",
    "  - Logistic Regression for classification\n",
    "  - Gradient Boosted Machine for regression\n",
    "4. Activation function\n",
    "5. Error functions\n",
    "6. Optimization algorithms\n",
    "7. Real world scenario with computer vision\n",
    "\n",
    "## Dataset\n",
    "\n",
    "- Cars dataset\n",
    "- Stock market data"
   ]
  },
  {
   "cell_type": "markdown",
   "metadata": {},
   "source": []
  }
 ],
 "metadata": {
  "kernelspec": {
   "display_name": "Python [conda env:py36]",
   "language": "python",
   "name": "conda-env-py36-py"
  },
  "language_info": {
   "codemirror_mode": {
    "name": "ipython",
    "version": 3
   },
   "file_extension": ".py",
   "mimetype": "text/x-python",
   "name": "python",
   "nbconvert_exporter": "python",
   "pygments_lexer": "ipython3",
   "version": "3.6.8"
  },
  "nav_menu": {},
  "toc": {
   "navigate_menu": true,
   "number_sections": true,
   "sideBar": true,
   "threshold": 6,
   "toc_cell": false,
   "toc_section_display": "block",
   "toc_window_display": false
  }
 },
 "nbformat": 4,
 "nbformat_minor": 4
}
