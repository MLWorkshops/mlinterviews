{
 "cells": [
  {
   "cell_type": "markdown",
   "metadata": {
    "slideshow": {
     "slide_type": "slide"
    },
    "tags": []
   },
   "source": [
    "# Machine Learning Foundations\n",
    "\n",
    "\n",
    "## Outline\n",
    "\n",
    "1. Scenario:  linear regression on the Palmer Penguin dataset\n",
    "    - Measures of a good regressor\n",
    "2. Scenario:  classification on the Palmer Penguin dataset\n",
    "    - Measures of a good classifier\n"
   ]
  },
  {
   "cell_type": "markdown",
   "metadata": {
    "slideshow": {
     "slide_type": "slide"
    },
    "tags": []
   },
   "source": [
    "## Datasets\n",
    "\n",
    "- Palmer Penguins dataset - [credits](https://github.com/allisonhorst/palmerpenguins)\n"
   ]
  },
  {
   "cell_type": "code",
   "execution_count": null,
   "metadata": {
    "slideshow": {
     "slide_type": "skip"
    },
    "tags": []
   },
   "outputs": [],
   "source": [
    "# import sys\n",
    "# ! {sys.executable} -m pip install --user -r requirements.txt"
   ]
  },
  {
   "cell_type": "markdown",
   "metadata": {},
   "source": [
    "## Imports"
   ]
  },
  {
   "cell_type": "code",
   "execution_count": null,
   "metadata": {},
   "outputs": [],
   "source": [
    "import pandas as pd\n",
    "import numpy as np\n",
    "import matplotlib.pyplot as plt\n",
    "import matplotlib\n",
    "import glob\n",
    "import os\n",
    "import requests\n",
    "import shutil\n",
    "import math\n",
    "\n",
    "# Import util, classifiers and performance metrics\n",
    "from sklearn.utils import shuffle\n",
    "from sklearn import svm, metrics\n",
    "from sklearn.metrics import mean_squared_error, r2_score\n",
    "from sklearn.linear_model import LinearRegression\n",
    "from sklearn.linear_model import LogisticRegression\n",
    "from sklearn.model_selection import train_test_split\n",
    "\n",
    "from skimage.feature import hog\n",
    "from skimage import exposure\n",
    "\n",
    "from utils import pad_image, download_file\n",
    "\n",
    "# Plot inline in notebook\n",
    "%matplotlib inline\n",
    "\n",
    "# Make figures wider to see easier\n",
    "plt.rcParams['figure.figsize'] = (16,3)\n",
    "# Change axis area color to make it easier to see image area\n",
    "plt.rcParams['figure.facecolor'] = 'grey'"
   ]
  },
  {
   "cell_type": "markdown",
   "metadata": {},
   "source": [
    "## Scenario:  linear regression for predicting penguin bill depth \n"
   ]
  },
  {
   "cell_type": "markdown",
   "metadata": {},
   "source": [
    "### Get the data"
   ]
  },
  {
   "cell_type": "code",
   "execution_count": null,
   "metadata": {},
   "outputs": [],
   "source": [
    "PENGUIN_DATA_FILE = os.path.join('data', 'penguins.csv')"
   ]
  },
  {
   "cell_type": "code",
   "execution_count": null,
   "metadata": {},
   "outputs": [],
   "source": [
    "penguin_data = pd.read_csv(PENGUIN_DATA_FILE)"
   ]
  },
  {
   "cell_type": "code",
   "execution_count": null,
   "metadata": {},
   "outputs": [],
   "source": [
    "print('Shape of penguin dataset = ', penguin_data.shape)\n",
    "penguin_data.head(10)"
   ]
  },
  {
   "cell_type": "markdown",
   "metadata": {},
   "source": [
    "### Exploratory data analysis\n"
   ]
  },
  {
   "cell_type": "markdown",
   "metadata": {},
   "source": [
    "What species do we have in this dataset?"
   ]
  },
  {
   "cell_type": "code",
   "execution_count": null,
   "metadata": {},
   "outputs": [],
   "source": [
    "print(set(penguin_data['species']))"
   ]
  },
  {
   "cell_type": "markdown",
   "metadata": {},
   "source": [
    "Print out the descriptive statistics for the whole penguin dataset."
   ]
  },
  {
   "cell_type": "code",
   "execution_count": null,
   "metadata": {},
   "outputs": [],
   "source": [
    "penguin_data.describe(include='all')"
   ]
  },
  {
   "cell_type": "markdown",
   "metadata": {},
   "source": [
    "Pick one species and select features\n",
    "\n",
    "![](https://github.com/allisonhorst/palmerpenguins/raw/master/man/figures/culmen_depth.png)\n",
    "\n",
    "Artwork by @allison_horst"
   ]
  },
  {
   "cell_type": "markdown",
   "metadata": {},
   "source": [
    "Select one species, `Gentoo` and features of interest.  The predictor will be `bill_length_mm` and the response variable will be `bill_depth_mm`."
   ]
  },
  {
   "cell_type": "code",
   "execution_count": null,
   "metadata": {},
   "outputs": [],
   "source": [
    "gentoo_data = penguin_data[penguin_data['species'] == 'Gentoo']\n",
    "\n",
    "# Select two quantitative features\n",
    "gentoo_data = gentoo_data[['bill_length_mm', 'bill_depth_mm']]\n",
    "\n",
    "print('Shape of Gentoo penguin dataset = ', gentoo_data.shape)\n",
    "gentoo_data.head()"
   ]
  },
  {
   "cell_type": "markdown",
   "metadata": {},
   "source": [
    "Plot our feature (bill length) against the response variable (bill depth)."
   ]
  },
  {
   "cell_type": "code",
   "execution_count": null,
   "metadata": {},
   "outputs": [],
   "source": [
    "plt.scatter(x=gentoo_data['bill_length_mm'],\n",
    "            y=gentoo_data['bill_depth_mm'])\n",
    "plt.title('Bill Depth vs. Bill Length')\n",
    "plt.xlabel('Bill length (mm)')\n",
    "plt.ylabel('Bill depth (mm)')"
   ]
  },
  {
   "cell_type": "markdown",
   "metadata": {},
   "source": [
    "### Clean the data\n",
    "\n",
    "Not-a-number or NaN is generally needing to be dealt with before fitting a model.  Often it will be replaced with a number or just removed.  Here, we remove the NaNs from the smaller Gentoo penguin dataset."
   ]
  },
  {
   "cell_type": "code",
   "execution_count": null,
   "metadata": {},
   "outputs": [],
   "source": [
    "# # what pandas method is needed here?  or you may create your own NaN remover.\n",
    "gentoo_data.dropna(inplace=True)\n",
    "gentoo_data.shape"
   ]
  },
  {
   "cell_type": "markdown",
   "metadata": {},
   "source": [
    "### Fit a linear regression model\n",
    "\n",
    "We will regress Y (bill depth) onto X (bill length) or, in other words, use our quantitative variable X (bill length) to predict the quantitative response variable Y (bill depth)."
   ]
  },
  {
   "cell_type": "code",
   "execution_count": null,
   "metadata": {},
   "outputs": [],
   "source": [
    "# Create train and test datasets (reserving some data to test our model)\n",
    "X = np.array(gentoo_data['bill_length_mm']).reshape(-1, 1)\n",
    "Y = np.array(gentoo_data['bill_depth_mm']).reshape(-1, 1)\n",
    "\n",
    "X, Y = shuffle(X, Y, random_state=0)\n",
    "\n",
    "# Split data into 70% train and 30% test subsets\n",
    "X_train, X_test, Y_train, Y_test = train_test_split(\n",
    "    X, Y, test_size=0.1, shuffle=False)\n",
    "\n",
    "# Train the model\n",
    "reg = LinearRegression()\n",
    "reg.fit(X_train, Y_train)"
   ]
  },
  {
   "cell_type": "markdown",
   "metadata": {},
   "source": [
    "### Predict"
   ]
  },
  {
   "cell_type": "code",
   "execution_count": null,
   "metadata": {},
   "outputs": [],
   "source": [
    "# Predict a response Y\n",
    "Y_pred = reg.predict(X_test)\n",
    "\n",
    "# The coefficients\n",
    "print('Coefficients: ', reg.coef_)\n",
    "print('Intercept: ', reg.intercept_)\n",
    "\n",
    "# Plot outputs\n",
    "plt.scatter(X_test, Y_test,  color='black')\n",
    "plt.plot(X_test, Y_pred, color='teal', linewidth=3)\n",
    "\n",
    "plt.title('Linear Regression Model for Gentoo Test Dataset')\n",
    "plt.xlabel('Bill length (mm)')\n",
    "plt.ylabel('Bill depth (mm)')"
   ]
  },
  {
   "cell_type": "markdown",
   "metadata": {},
   "source": [
    "### Measures of a good regressor"
   ]
  },
  {
   "cell_type": "code",
   "execution_count": null,
   "metadata": {},
   "outputs": [],
   "source": [
    "# The mean squared error\n",
    "print('Mean squared error: %.2f'\n",
    "      % mean_squared_error(Y_test, Y_pred))\n",
    "\n",
    "# The coefficient of determination: 1 is perfect prediction\n",
    "print('Coefficient of determination: %.2f'\n",
    "      % r2_score(Y_test, Y_pred))"
   ]
  },
  {
   "cell_type": "markdown",
   "metadata": {},
   "source": [
    "## Scenario:  Logistic regression for classification of Gentoo penguin species\n",
    "\n",
    "![](https://github.com/allisonhorst/palmerpenguins/raw/master/man/figures/lter_penguins.png)\n",
    "Artwork by @allison_horst\n",
    "\n",
    "Here we have a qualitative or categorical response variable, `species`.  We will use two species of the three above to create a binary classifier with logistic regression.  We will first take a look at what linear regression can do for us."
   ]
  },
  {
   "cell_type": "markdown",
   "metadata": {},
   "source": [
    "### Create the dataset"
   ]
  },
  {
   "cell_type": "code",
   "execution_count": null,
   "metadata": {},
   "outputs": [],
   "source": [
    "# Let's select our variables\n",
    "species_data = penguin_data[['bill_depth_mm', 'species']]\n",
    "\n",
    "# Let's limit to just 2 species as we want binary classifcation\n",
    "species_data = species_data[species_data['species'] != 'Adelie']\n",
    "species_data.dropna(inplace=True)\n",
    "\n",
    "print('Shape of classification dataset = ', species_data.shape)"
   ]
  },
  {
   "cell_type": "markdown",
   "metadata": {},
   "source": [
    "Most ML algorithms need all variables as numerical so even categorical variables must be numerical and we can do so by using \"dummy variables\" for those."
   ]
  },
  {
   "cell_type": "code",
   "execution_count": null,
   "metadata": {},
   "outputs": [],
   "source": [
    "# Encode the response variable from string to numerical\n",
    "species_encoded = [0 if x == 'Gentoo' else 1 for x in species_data['species']]\n",
    "species_data['species'] = species_encoded"
   ]
  },
  {
   "cell_type": "markdown",
   "metadata": {},
   "source": [
    "Chose our single variable, bill depth, and labels, the gender.\n"
   ]
  },
  {
   "cell_type": "code",
   "execution_count": null,
   "metadata": {},
   "outputs": [],
   "source": [
    "X = species_data[['bill_depth_mm']]\n",
    "Y = species_data[['species']]\n",
    "\n",
    "# Shuffle\n",
    "X, Y = shuffle(X, Y, random_state=0)\n",
    "\n",
    "# Split data into 70% train and 30% test subsets\n",
    "X_train, X_test, Y_train, Y_test = train_test_split(\n",
    "    X, Y, test_size=0.2, shuffle=False)"
   ]
  },
  {
   "cell_type": "markdown",
   "metadata": {},
   "source": [
    "## What if we fit a linear regression model with our binary species dataset?"
   ]
  },
  {
   "cell_type": "code",
   "execution_count": null,
   "metadata": {},
   "outputs": [],
   "source": [
    "# Train a linear regression model\n",
    "reg = LinearRegression()\n",
    "reg.fit(X_train, Y_train)\n",
    "\n",
    "# Predict a response Y\n",
    "Y_pred = reg.predict(X_test)\n",
    "\n",
    "# The coefficients\n",
    "print('Coefficients: ', reg.coef_)\n",
    "print('Intercept: ', reg.intercept_)\n",
    "\n",
    "# The mean squared error\n",
    "print('Mean squared error: %.2f'\n",
    "      % mean_squared_error(Y_test, Y_pred))\n",
    "\n",
    "# The coefficient of determination: 1 is perfect prediction\n",
    "print('Coefficient of determination: %.2f'\n",
    "      % r2_score(Y_test, Y_pred))\n",
    "\n",
    "\n",
    "# Plot outputs\n",
    "plt.scatter(X_test, Y_test,  color='black')\n",
    "plt.plot(X_test, Y_pred, color='orange', linewidth=3)\n",
    "\n",
    "plt.title('Linear Regression Model for Species Dataset')\n",
    "plt.xlabel('Bill depth (mm)')\n",
    "plt.ylabel('Species (0=Gentoo/1=Chinstrap)')"
   ]
  },
  {
   "cell_type": "markdown",
   "metadata": {},
   "source": [
    "What are the issues here?"
   ]
  },
  {
   "cell_type": "markdown",
   "metadata": {},
   "source": [
    "### Fit a logistic regression model"
   ]
  },
  {
   "cell_type": "code",
   "execution_count": null,
   "metadata": {},
   "outputs": [],
   "source": [
    "# Initialize the classifier\n",
    "clf = LogisticRegression(random_state=0)\n",
    "\n",
    "# Learn the digits on the train subset\n",
    "clf.fit(X_train, Y_train)\n",
    "\n",
    "print('Classifier score = ', clf.score(X_test, Y_test))"
   ]
  },
  {
   "cell_type": "markdown",
   "metadata": {},
   "source": [
    "### Predict"
   ]
  },
  {
   "cell_type": "code",
   "execution_count": null,
   "metadata": {},
   "outputs": [],
   "source": [
    "# Prediction\n",
    "Y_pred = clf.predict(X_test)\n",
    "\n",
    "# Probabilities (female or male)\n",
    "probas = clf.predict_proba(X_test)\n",
    "\n",
    "# Get probability male (second column of probabilities)\n",
    "prob_male = probas[:, 1].reshape(1,-1)[0]\n",
    "\n",
    "# Plot outputs\n",
    "plt.scatter(X_test, Y_test,  color='black')\n",
    "\n",
    "# To plot the probabilities correctly must sort X's\n",
    "X_test_sorted, prob_male_reordered = zip(*sorted(zip(X_test['bill_depth_mm'], \n",
    "                                                     prob_male),key=lambda x: x[0]))\n",
    "plt.plot(X_test_sorted, prob_male_reordered, color='orange', linewidth=2)\n",
    "\n",
    "plt.title('Predicted Probabilities of Chinstrap vs. Gentoo Species with Logistic Regression')\n",
    "plt.xlabel('Bill depth (mm)')\n",
    "plt.ylabel('Species (0=Gentoo/1=Chinstrap)')"
   ]
  },
  {
   "cell_type": "markdown",
   "metadata": {},
   "source": [
    "### Challenge:  Writing a sigmoid or logistic function on toy data\n",
    "Do you recall from our lecture what the logistic function was?  It is a type of signmoidal curve.  Fill in the blanks below to draw the sigmoid curve on the toy data.\n",
    "\n",
    "Hint:  `numpy` makes it easy to use `e` or Euler's number to an exponent given as the values in `x`."
   ]
  },
  {
   "cell_type": "code",
   "execution_count": null,
   "metadata": {},
   "outputs": [],
   "source": [
    "# Create 100 datapoints between -10 to 10\n",
    "x = np.linspace(-10, 10, 100)\n",
    "\n",
    "# Fill in the following with the logistic function\n",
    "z = ___ / ___\n",
    "\n",
    "# Plot\n",
    "plt.plot(x, z)\n",
    "plt.xlabel(\"x\")\n",
    "plt.ylabel(\"Sigmoid(X)\")\n",
    "plt.show()"
   ]
  },
  {
   "cell_type": "markdown",
   "metadata": {},
   "source": [
    "**Poll**:  What is the upper limit of the line in the sigmoid curve plot?"
   ]
  },
  {
   "cell_type": "markdown",
   "metadata": {},
   "source": [
    "### Measures of a good classifier"
   ]
  },
  {
   "cell_type": "markdown",
   "metadata": {},
   "source": [
    "Confusion matrix"
   ]
  },
  {
   "cell_type": "code",
   "execution_count": null,
   "metadata": {},
   "outputs": [],
   "source": [
    "disp = metrics.plot_confusion_matrix(clf, X_test, Y_test, \n",
    "                                     display_labels=['Gentoo','Chinstrap'])\n",
    "disp.figure_.suptitle(\"Confusion Matrix\")\n",
    "print(f\"Confusion matrix:\\n{disp.confusion_matrix}\")\n",
    "print('')\n",
    "plt.show()"
   ]
  },
  {
   "cell_type": "markdown",
   "metadata": {},
   "source": [
    "Do you see any issues with this classification experiment?"
   ]
  },
  {
   "cell_type": "code",
   "execution_count": null,
   "metadata": {},
   "outputs": [],
   "source": [
    "print(f\"Classification report for classifier {clf}:\\n\"\n",
    "      f\"{metrics.classification_report(Y_test, Y_pred)}\\n\")"
   ]
  },
  {
   "cell_type": "markdown",
   "metadata": {},
   "source": [
    "### Challenge\n",
    "\n",
    "Replace LogisticRegression with a different off-the-shelf classifier (like a support vector machine or k-nearest neighbor algorithm) in the code cell above that defines and uses the classifier and try another classification experiment.\n",
    "\n",
    "- [SVM](https://scikit-learn.org/stable/modules/svm.html) - hint:  you may wish to try different kernels\n",
    "- [KNN](https://scikit-learn.org/stable/modules/neighbors.html#nearest-neighbors-classification) - remember the curse of dimensionality\n",
    "- ..."
   ]
  },
  {
   "cell_type": "code",
   "execution_count": null,
   "metadata": {},
   "outputs": [],
   "source": []
  }
 ],
 "metadata": {
  "kernelspec": {
   "display_name": "Python [default]",
   "language": "python",
   "name": "python3"
  },
  "language_info": {
   "codemirror_mode": {
    "name": "ipython",
    "version": 3
   },
   "file_extension": ".py",
   "mimetype": "text/x-python",
   "name": "python",
   "nbconvert_exporter": "python",
   "pygments_lexer": "ipython3",
   "version": "3.6.8"
  },
  "nav_menu": {},
  "toc": {
   "navigate_menu": true,
   "number_sections": true,
   "sideBar": true,
   "threshold": 6,
   "toc_cell": false,
   "toc_section_display": "block",
   "toc_window_display": false
  }
 },
 "nbformat": 4,
 "nbformat_minor": 4
}
