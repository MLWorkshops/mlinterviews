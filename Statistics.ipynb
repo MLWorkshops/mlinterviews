{
 "cells": [
  {
   "cell_type": "markdown",
   "metadata": {},
   "source": [
    "* What's a P-Value?\n",
    "\n",
    "* What are some examples of time-series data?\n",
    "\n",
    "* What is a confusion matrix?\n",
    "\n",
    "* What is selection bias?\n",
    "\n",
    "* What is survivorship bias?\n",
    "\n"
   ]
  }
 ],
 "metadata": {
  "kernelspec": {
   "display_name": "Python 3",
   "language": "python",
   "name": "python3"
  },
  "language_info": {
   "codemirror_mode": {
    "name": "ipython",
    "version": 3
   },
   "file_extension": ".py",
   "mimetype": "text/x-python",
   "name": "python",
   "nbconvert_exporter": "python",
   "pygments_lexer": "ipython3",
   "version": "3.5.7"
  }
 },
 "nbformat": 4,
 "nbformat_minor": 4
}
